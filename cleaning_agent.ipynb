{
  "nbformat": 4,
  "nbformat_minor": 0,
  "metadata": {
    "colab": {
      "provenance": [],
      "authorship_tag": "ABX9TyP1gRp1gdEIWYhx66r5Tp+R",
      "include_colab_link": true
    },
    "kernelspec": {
      "name": "python3",
      "display_name": "Python 3"
    },
    "language_info": {
      "name": "python"
    }
  },
  "cells": [
    {
      "cell_type": "markdown",
      "metadata": {
        "id": "view-in-github",
        "colab_type": "text"
      },
      "source": [
        "<a href=\"https://colab.research.google.com/github/Aashika100-jpg/AI-Lab/blob/main/cleaning_agent.ipynb\" target=\"_parent\"><img src=\"https://colab.research.google.com/assets/colab-badge.svg\" alt=\"Open In Colab\"/></a>"
      ]
    },
    {
      "cell_type": "code",
      "execution_count": null,
      "metadata": {
        "id": "AgVvBEx-XdQV"
      },
      "outputs": [],
      "source": [
        "import random\n",
        "\n",
        "class RoomCleanerAgent:\n",
        "    def __init__(self, room_size=(10, 10)):\n",
        "        self.room_size = room_size\n",
        "        # Initialize the room as a 10x10 grid with random 0 (clean) and 1 (dirty) cells\n",
        "        self.grid = [[random.choice([0, 1]) for _ in range(room_size[1])] for _ in range(room_size[0])]\n",
        "        # Initialize the agent's position randomly\n",
        "        self.current_position = (random.randint(0, room_size[0] - 1), random.randint(0, room_size[1] - 1))\n",
        "\n",
        "    def display_room(self):\n",
        "        # Display the current status of the room grid\n",
        "        for row in self.grid:\n",
        "          for cell in row):\n",
        "            print(' '.join(str(cell)))\n",
        "          print(\"\\n\")\n",
        "\n",
        "    def perceive(self):\n",
        "        # Perceive the cleanliness of the current cell\n",
        "        x, y = self.current_position\n",
        "        return self.grid[x][y]\n",
        "\n",
        "    def act(self):\n",
        "        # Perform action based on the perception (clean the cell if dirty)\n",
        "        x, y = self.current_position\n",
        "        if self.perceive() == 1:  # If the current cell is dirty (1)\n",
        "            print(f\"Cell ({x}, {y}) is Dirty. Cleaning...\")\n",
        "            self.grid[x][y] = 0  # Clean the cell (set to 0)\n",
        "            print(f\"Cell ({x}, {y}) is now Clean.\")\n",
        "        else:\n",
        "            print(f\"Cell ({x}, {y}) is already Clean.\")\n",
        "\n",
        "    def move(self):\n",
        "        # Systematic movement to cover the entire grid row by row\n",
        "        x, y = self.current_position\n",
        "        if y < self.room_size[1] - 1:  # Move to the next cell in the same row\n",
        "            self.current_position = (x, y + 1)\n",
        "        elif x < self.room_size[0] - 1:  # Move to the first cell of the next row\n",
        "            self.current_position = (x + 1, 0)\n",
        "        else:\n",
        "            self.current_position = None  # All cells have been visited\n",
        "\n",
        "    def is_room_clean(self):\n",
        "        # Check if the entire room is clean\n",
        "        return all(cell == 0 for row in self.grid for cell in row)\n",
        "\n",
        "    def run(self):\n",
        "        # Display initial status of the room\n",
        "        print(\"Initial Room Status:\")\n",
        "        self.display_room()\n",
        "\n",
        "        steps = 0\n",
        "        while not self.is_room_clean():\n",
        "            print(f\"\\nStep {steps + 1}:\")\n",
        "            self.act()\n",
        "            self.move()\n",
        "            steps += 1\n",
        "            if self.current_position is None:\n",
        "                # Restart from the top-left corner if needed to ensure all cells are visited\n",
        "                self.current_position = (0, 0)\n",
        "\n",
        "        # Display final status of the room\n",
        "        print(\"\\nFinal Room Status:\")\n",
        "        self.display_room()\n",
        "        print(f\"Room cleaned in {steps} steps.\")\n",
        "\n",
        "# Create and run the Room Cleaner Agent\n",
        "agent = RoomCleanerAgent()\n",
        "agent.run()\n"
      ]
    }
  ]
}