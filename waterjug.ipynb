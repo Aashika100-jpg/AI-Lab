{
  "nbformat": 4,
  "nbformat_minor": 0,
  "metadata": {
    "colab": {
      "provenance": [],
      "authorship_tag": "ABX9TyPRRnoYoPyz1MUhHmmPfiR5",
      "include_colab_link": true
    },
    "kernelspec": {
      "name": "python3",
      "display_name": "Python 3"
    },
    "language_info": {
      "name": "python"
    }
  },
  "cells": [
    {
      "cell_type": "markdown",
      "metadata": {
        "id": "view-in-github",
        "colab_type": "text"
      },
      "source": [
        "<a href=\"https://colab.research.google.com/github/Aashika100-jpg/AI-Lab/blob/main/waterjug.ipynb\" target=\"_parent\"><img src=\"https://colab.research.google.com/assets/colab-badge.svg\" alt=\"Open In Colab\"/></a>"
      ]
    },
    {
      "cell_type": "code",
      "execution_count": 4,
      "metadata": {
        "colab": {
          "base_uri": "https://localhost:8080/"
        },
        "id": "en9z2kmQRa4K",
        "outputId": "f63a8fb9-b8a7-4ad7-a8f5-de61ec60cff4"
      },
      "outputs": [
        {
          "output_type": "stream",
          "name": "stdout",
          "text": [
            "Solution path:\n",
            "(0, 0)\n",
            "(0, 3)\n",
            "(3, 0)\n",
            "(3, 3)\n",
            "(4, 2)\n",
            "(0, 2)\n",
            "(2, 0)\n"
          ]
        }
      ],
      "source": [
        "def successors(state):\n",
        "    X, Y = state\n",
        "    succ = []\n",
        "\n",
        "    # Action 1: Fill Jug X (capacity 4)\n",
        "    if X < 4:\n",
        "        succ.append((4, Y))\n",
        "\n",
        "    # Action 2: Fill Jug Y (capacity 3)\n",
        "    if Y < 3:\n",
        "        succ.append((X, 3))\n",
        "\n",
        "    # Action 3: Empty Jug X\n",
        "    if X > 0:\n",
        "        succ.append((0, Y))\n",
        "\n",
        "    # Action 4: Empty Jug Y\n",
        "    if Y > 0:\n",
        "        succ.append((X, 0))\n",
        "\n",
        "    # Action 5: Pour from Jug X to Jug Y\n",
        "    if X > 0 and Y < 3:\n",
        "        transfer = min(X, 3 - Y)\n",
        "        succ.append((X - transfer, Y + transfer))\n",
        "\n",
        "    # Action 6: Pour from Jug Y to Jug X\n",
        "    if Y > 0 and X < 4:\n",
        "        transfer = min(Y, 4 - X)\n",
        "        succ.append((X + transfer, Y - transfer))\n",
        "\n",
        "    return succ\n",
        "\n",
        "# DFS algorithm\n",
        "def dfs(initial_state, goal_state):\n",
        "    OPEN = [initial_state]  # Stack of states to explore\n",
        "    CLOSED = set()          # Set of explored states\n",
        "    parent_map = {initial_state: None}  # To reconstruct the path\n",
        "\n",
        "    while OPEN:\n",
        "        # Step 1: Pop from OPEN and add it to CLOSED\n",
        "        current_state = OPEN.pop()\n",
        "        CLOSED.add(current_state)\n",
        "\n",
        "        # Step 2: Goal test\n",
        "        if current_state == goal_state:\n",
        "            # Goal found, reconstruct path\n",
        "            path = []\n",
        "            while current_state is not None:\n",
        "                path.append(current_state)\n",
        "                current_state = parent_map[current_state]\n",
        "            return path[::-1]  # Return reversed path\n",
        "\n",
        "        # Step 3: Generate successors and add to OPEN if not in OPEN or CLOSED\n",
        "        for succ in successors(current_state):\n",
        "            if succ not in CLOSED and succ not in OPEN:\n",
        "                OPEN.append(succ)\n",
        "                parent_map[succ] = current_state\n",
        "\n",
        "    # Step 5: Return None if goal is not found\n",
        "    return None\n",
        "\n",
        "# Define the initial and goal states\n",
        "initial_state = (0, 0)  # Initial state: both jugs empty\n",
        "goal_state = (2, 0)     # Goal state: jug X has exactly 2 liters\n",
        "\n",
        "# Run DFS to find the solution\n",
        "solution = dfs(initial_state, goal_state)\n",
        "\n",
        "# Output the solution\n",
        "if solution:\n",
        "    print(\"Solution path:\")\n",
        "    for step in solution:\n",
        "        print(step)\n",
        "else:\n",
        "    print(\"No solution found\")\n"
      ]
    }
  ]
}