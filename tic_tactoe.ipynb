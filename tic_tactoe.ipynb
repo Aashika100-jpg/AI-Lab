{
  "nbformat": 4,
  "nbformat_minor": 0,
  "metadata": {
    "colab": {
      "provenance": [],
      "authorship_tag": "ABX9TyN+rexHP8Cg67Mt1SlQfgjq",
      "include_colab_link": true
    },
    "kernelspec": {
      "name": "python3",
      "display_name": "Python 3"
    },
    "language_info": {
      "name": "python"
    }
  },
  "cells": [
    {
      "cell_type": "markdown",
      "metadata": {
        "id": "view-in-github",
        "colab_type": "text"
      },
      "source": [
        "<a href=\"https://colab.research.google.com/github/Aashika100-jpg/AI-Lab/blob/main/tic_tactoe.ipynb\" target=\"_parent\"><img src=\"https://colab.research.google.com/assets/colab-badge.svg\" alt=\"Open In Colab\"/></a>"
      ]
    },
    {
      "cell_type": "code",
      "execution_count": null,
      "metadata": {
        "id": "CwfyPP42GrKU"
      },
      "outputs": [],
      "source": [
        "def check_line(line, player):\n",
        "    \"\"\"Check if a line (row, column, or diagonal) is fully occupied by the player or opponent.\"\"\"\n",
        "    if all(cell == player for cell in line):\n",
        "        return 1  # Player has won this line\n",
        "    elif all(cell == ('O' if player == 'X' else 'X') for cell in line):\n",
        "        return -1  # Opponent has won this line\n",
        "    return 0  # Line is still open (no winner yet)\n",
        "\n",
        "def heuristic_value(board, player):\n",
        "    \"\"\"\n",
        "    Calculate the heuristic value of the Tic-Tac-Toe board for the given player.\n",
        "    e(p) = Number of complete rows, columns or diagonals open for player -\n",
        "           Number of complete rows, columns or diagonals open for opponent.\n",
        "    \"\"\"\n",
        "    opponent = 'O' if player == 'X' else 'X'\n",
        "\n",
        "    # Initialize score\n",
        "    score = 0\n",
        "\n",
        "    # Check rows and columns\n",
        "    for i in range(3):\n",
        "        row = board[i]\n",
        "        col = [board[j][i] for j in range(3)]\n",
        "\n",
        "        # Check row and column for player and opponent\n",
        "        score += check_line(row, player)\n",
        "        score -= check_line(row, opponent)\n",
        "        score += check_line(col, player)\n",
        "        score -= check_line(col, opponent)\n",
        "\n",
        "    # Check diagonals\n",
        "    diag1 = [board[i][i] for i in range(3)]\n",
        "    diag2 = [board[i][2 - i] for i in range(3)]\n",
        "\n",
        "    # Check diagonals for player and opponent\n",
        "    score += check_line(diag1, player)\n",
        "    score -= check_line(diag1, opponent)\n",
        "    score += check_line(diag2, player)\n",
        "    score -= check_line(diag2, opponent)\n",
        "\n",
        "    return score\n",
        "\n",
        "# Example board configurations\n",
        "board1 = [\n",
        "    ['X', 'X', 'X'],\n",
        "    ['O', '_', 'O'],\n",
        "    ['_', 'O', 'X']\n",
        "]\n",
        "\n",
        "board2 = [\n",
        "    ['X', 'X', '_'],\n",
        "    ['O', '_', 'O'],\n",
        "    ['_', 'O', 'X']\n",
        "]\n",
        "\n",
        "# Test with player 'X'\n",
        "print(\"Heuristic value for board1 (player 'X'):\", heuristic_value(board1, 'X'))\n",
        "print(\"Heuristic value for board2 (player 'X'):\", heuristic_value(board2, 'X'))\n",
        "\n",
        "# Test with player 'O'\n",
        "print(\"Heuristic value for board1 (player 'O'):\", heuristic_value(board1, 'O'))\n",
        "print(\"Heuristic value for board2 (player 'O'):\", heuristic_value(board2, 'O'))\n"
      ]
    }
  ]
}